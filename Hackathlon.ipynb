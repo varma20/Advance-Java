{
  "cells": [
    {
      "cell_type": "markdown",
      "metadata": {
        "id": "view-in-github",
        "colab_type": "text"
      },
      "source": [
        "<a href=\"https://colab.research.google.com/github/varma20/Advance-Java/blob/main/Hackathlon.ipynb\" target=\"_parent\"><img src=\"https://colab.research.google.com/assets/colab-badge.svg\" alt=\"Open In Colab\"/></a>"
      ]
    },
    {
      "cell_type": "code",
      "execution_count": 3,
      "metadata": {
        "colab": {
          "base_uri": "https://localhost:8080/",
          "height": 73
        },
        "id": "QUwpyKx8yeVe",
        "outputId": "21672615-ed5c-4ed2-c9de-ece851a1a26c"
      },
      "outputs": [
        {
          "output_type": "display_data",
          "data": {
            "text/plain": [
              "<IPython.core.display.HTML object>"
            ],
            "text/html": [
              "\n",
              "     <input type=\"file\" id=\"files-e68ee6a5-485c-445d-9eb0-81c211e49fdc\" name=\"files[]\" multiple disabled\n",
              "        style=\"border:none\" />\n",
              "     <output id=\"result-e68ee6a5-485c-445d-9eb0-81c211e49fdc\">\n",
              "      Upload widget is only available when the cell has been executed in the\n",
              "      current browser session. Please rerun this cell to enable.\n",
              "      </output>\n",
              "      <script>// Copyright 2017 Google LLC\n",
              "//\n",
              "// Licensed under the Apache License, Version 2.0 (the \"License\");\n",
              "// you may not use this file except in compliance with the License.\n",
              "// You may obtain a copy of the License at\n",
              "//\n",
              "//      http://www.apache.org/licenses/LICENSE-2.0\n",
              "//\n",
              "// Unless required by applicable law or agreed to in writing, software\n",
              "// distributed under the License is distributed on an \"AS IS\" BASIS,\n",
              "// WITHOUT WARRANTIES OR CONDITIONS OF ANY KIND, either express or implied.\n",
              "// See the License for the specific language governing permissions and\n",
              "// limitations under the License.\n",
              "\n",
              "/**\n",
              " * @fileoverview Helpers for google.colab Python module.\n",
              " */\n",
              "(function(scope) {\n",
              "function span(text, styleAttributes = {}) {\n",
              "  const element = document.createElement('span');\n",
              "  element.textContent = text;\n",
              "  for (const key of Object.keys(styleAttributes)) {\n",
              "    element.style[key] = styleAttributes[key];\n",
              "  }\n",
              "  return element;\n",
              "}\n",
              "\n",
              "// Max number of bytes which will be uploaded at a time.\n",
              "const MAX_PAYLOAD_SIZE = 100 * 1024;\n",
              "\n",
              "function _uploadFiles(inputId, outputId) {\n",
              "  const steps = uploadFilesStep(inputId, outputId);\n",
              "  const outputElement = document.getElementById(outputId);\n",
              "  // Cache steps on the outputElement to make it available for the next call\n",
              "  // to uploadFilesContinue from Python.\n",
              "  outputElement.steps = steps;\n",
              "\n",
              "  return _uploadFilesContinue(outputId);\n",
              "}\n",
              "\n",
              "// This is roughly an async generator (not supported in the browser yet),\n",
              "// where there are multiple asynchronous steps and the Python side is going\n",
              "// to poll for completion of each step.\n",
              "// This uses a Promise to block the python side on completion of each step,\n",
              "// then passes the result of the previous step as the input to the next step.\n",
              "function _uploadFilesContinue(outputId) {\n",
              "  const outputElement = document.getElementById(outputId);\n",
              "  const steps = outputElement.steps;\n",
              "\n",
              "  const next = steps.next(outputElement.lastPromiseValue);\n",
              "  return Promise.resolve(next.value.promise).then((value) => {\n",
              "    // Cache the last promise value to make it available to the next\n",
              "    // step of the generator.\n",
              "    outputElement.lastPromiseValue = value;\n",
              "    return next.value.response;\n",
              "  });\n",
              "}\n",
              "\n",
              "/**\n",
              " * Generator function which is called between each async step of the upload\n",
              " * process.\n",
              " * @param {string} inputId Element ID of the input file picker element.\n",
              " * @param {string} outputId Element ID of the output display.\n",
              " * @return {!Iterable<!Object>} Iterable of next steps.\n",
              " */\n",
              "function* uploadFilesStep(inputId, outputId) {\n",
              "  const inputElement = document.getElementById(inputId);\n",
              "  inputElement.disabled = false;\n",
              "\n",
              "  const outputElement = document.getElementById(outputId);\n",
              "  outputElement.innerHTML = '';\n",
              "\n",
              "  const pickedPromise = new Promise((resolve) => {\n",
              "    inputElement.addEventListener('change', (e) => {\n",
              "      resolve(e.target.files);\n",
              "    });\n",
              "  });\n",
              "\n",
              "  const cancel = document.createElement('button');\n",
              "  inputElement.parentElement.appendChild(cancel);\n",
              "  cancel.textContent = 'Cancel upload';\n",
              "  const cancelPromise = new Promise((resolve) => {\n",
              "    cancel.onclick = () => {\n",
              "      resolve(null);\n",
              "    };\n",
              "  });\n",
              "\n",
              "  // Wait for the user to pick the files.\n",
              "  const files = yield {\n",
              "    promise: Promise.race([pickedPromise, cancelPromise]),\n",
              "    response: {\n",
              "      action: 'starting',\n",
              "    }\n",
              "  };\n",
              "\n",
              "  cancel.remove();\n",
              "\n",
              "  // Disable the input element since further picks are not allowed.\n",
              "  inputElement.disabled = true;\n",
              "\n",
              "  if (!files) {\n",
              "    return {\n",
              "      response: {\n",
              "        action: 'complete',\n",
              "      }\n",
              "    };\n",
              "  }\n",
              "\n",
              "  for (const file of files) {\n",
              "    const li = document.createElement('li');\n",
              "    li.append(span(file.name, {fontWeight: 'bold'}));\n",
              "    li.append(span(\n",
              "        `(${file.type || 'n/a'}) - ${file.size} bytes, ` +\n",
              "        `last modified: ${\n",
              "            file.lastModifiedDate ? file.lastModifiedDate.toLocaleDateString() :\n",
              "                                    'n/a'} - `));\n",
              "    const percent = span('0% done');\n",
              "    li.appendChild(percent);\n",
              "\n",
              "    outputElement.appendChild(li);\n",
              "\n",
              "    const fileDataPromise = new Promise((resolve) => {\n",
              "      const reader = new FileReader();\n",
              "      reader.onload = (e) => {\n",
              "        resolve(e.target.result);\n",
              "      };\n",
              "      reader.readAsArrayBuffer(file);\n",
              "    });\n",
              "    // Wait for the data to be ready.\n",
              "    let fileData = yield {\n",
              "      promise: fileDataPromise,\n",
              "      response: {\n",
              "        action: 'continue',\n",
              "      }\n",
              "    };\n",
              "\n",
              "    // Use a chunked sending to avoid message size limits. See b/62115660.\n",
              "    let position = 0;\n",
              "    do {\n",
              "      const length = Math.min(fileData.byteLength - position, MAX_PAYLOAD_SIZE);\n",
              "      const chunk = new Uint8Array(fileData, position, length);\n",
              "      position += length;\n",
              "\n",
              "      const base64 = btoa(String.fromCharCode.apply(null, chunk));\n",
              "      yield {\n",
              "        response: {\n",
              "          action: 'append',\n",
              "          file: file.name,\n",
              "          data: base64,\n",
              "        },\n",
              "      };\n",
              "\n",
              "      let percentDone = fileData.byteLength === 0 ?\n",
              "          100 :\n",
              "          Math.round((position / fileData.byteLength) * 100);\n",
              "      percent.textContent = `${percentDone}% done`;\n",
              "\n",
              "    } while (position < fileData.byteLength);\n",
              "  }\n",
              "\n",
              "  // All done.\n",
              "  yield {\n",
              "    response: {\n",
              "      action: 'complete',\n",
              "    }\n",
              "  };\n",
              "}\n",
              "\n",
              "scope.google = scope.google || {};\n",
              "scope.google.colab = scope.google.colab || {};\n",
              "scope.google.colab._files = {\n",
              "  _uploadFiles,\n",
              "  _uploadFilesContinue,\n",
              "};\n",
              "})(self);\n",
              "</script> "
            ]
          },
          "metadata": {}
        },
        {
          "output_type": "stream",
          "name": "stdout",
          "text": [
            "Saving rawdata.zip to rawdata.zip\n"
          ]
        }
      ],
      "source": [
        "from google.colab import files\n",
        "uploaded = files.upload()"
      ]
    },
    {
      "cell_type": "code",
      "execution_count": 4,
      "metadata": {
        "colab": {
          "base_uri": "https://localhost:8080/"
        },
        "id": "5gooQI-xyt9T",
        "outputId": "3d8fdc3d-5ce5-4964-f5bb-a2f25c34578d"
      },
      "outputs": [
        {
          "output_type": "stream",
          "name": "stdout",
          "text": [
            "Archive:  /content/drive/MyDrive/dataset/rawdata.zip\n",
            "   creating: rawdata/testing/\n",
            "   creating: rawdata/testing/areeftest/\n",
            "  inflating: rawdata/testing/areeftest/WIN_20230320_002613.JPG  \n",
            "  inflating: rawdata/testing/areeftest/WIN_20230320_002615.JPG  \n",
            "  inflating: rawdata/testing/areeftest/WIN_20230320_002617.JPG  \n",
            "  inflating: rawdata/testing/areeftest/WIN_20230320_002618.JPG  \n",
            "  inflating: rawdata/testing/areeftest/WIN_20230320_002621.JPG  \n",
            "  inflating: rawdata/testing/areeftest/WIN_20230320_002623.JPG  \n",
            "   creating: rawdata/testing/gunatest/\n",
            "  inflating: rawdata/testing/gunatest/WIN_20230320_002335.JPG  \n",
            "  inflating: rawdata/testing/gunatest/WIN_20230320_002337.JPG  \n",
            "  inflating: rawdata/testing/gunatest/WIN_20230320_002339.JPG  \n",
            "  inflating: rawdata/testing/gunatest/WIN_20230320_002343.JPG  \n",
            "   creating: rawdata/testing/haritest/\n",
            "  inflating: rawdata/testing/haritest/WIN_20230320_002501.JPG  \n",
            "  inflating: rawdata/testing/haritest/WIN_20230320_002511.JPG  \n",
            "  inflating: rawdata/testing/haritest/WIN_20230320_002514.JPG  \n",
            "  inflating: rawdata/testing/haritest/WIN_20230320_002523.JPG  \n",
            "  inflating: rawdata/testing/haritest/WIN_20230320_002529.JPG  \n",
            "   creating: rawdata/testing/jubertest/\n",
            "  inflating: rawdata/testing/jubertest/WIN_20230320_002852.JPG  \n",
            "  inflating: rawdata/testing/jubertest/WIN_20230320_002907.JPG  \n",
            "  inflating: rawdata/testing/jubertest/WIN_20230320_002909.JPG  \n",
            "  inflating: rawdata/testing/jubertest/WIN_20230320_002911.JPG  \n",
            "  inflating: rawdata/testing/jubertest/WIN_20230320_002913.JPG  \n",
            "  inflating: rawdata/testing/jubertest/WIN_20230320_002915.JPG  \n",
            "  inflating: rawdata/testing/jubertest/WIN_20230320_002918.JPG  \n",
            "  inflating: rawdata/testing/jubertest/WIN_20230320_002920.JPG  \n",
            "   creating: rawdata/testing/stest/\n",
            "  inflating: rawdata/testing/stest/stest1.jpg  \n",
            "  inflating: rawdata/testing/stest/stest2.jpg  \n",
            "  inflating: rawdata/testing/stest/stest3.jpg  \n",
            "  inflating: rawdata/testing/stest/stest4.jpg  \n",
            "  inflating: rawdata/testing/Thumbs.db  \n",
            "   creating: rawdata/testing/umeshtest/\n",
            "  inflating: rawdata/testing/umeshtest/WIN_20230320_002738.JPG  \n",
            "  inflating: rawdata/testing/umeshtest/WIN_20230320_002739.JPG  \n",
            "  inflating: rawdata/testing/umeshtest/WIN_20230320_002741.JPG  \n",
            "  inflating: rawdata/testing/umeshtest/WIN_20230320_002743.JPG  \n",
            "   creating: rawdata/testing/virattest/\n",
            "  inflating: rawdata/testing/virattest/virattest1.jpg  \n",
            "  inflating: rawdata/testing/virattest/virattest2.jpg  \n",
            "  inflating: rawdata/testing/virattest/virattest3.jpg  \n",
            "  inflating: rawdata/testing/virattest/virattest4.jpg  \n",
            "   creating: rawdata/training/\n",
            "   creating: rawdata/training/A/\n",
            "  inflating: rawdata/training/A/Areef.JPG  \n",
            "  inflating: rawdata/training/A/Thumbs.db  \n",
            "  inflating: rawdata/training/A/WIN_20230319_221215.JPG  \n",
            "  inflating: rawdata/training/A/WIN_20230319_221216.JPG  \n",
            "  inflating: rawdata/training/A/WIN_20230319_221226.JPG  \n",
            "  inflating: rawdata/training/A/WIN_20230319_221228.JPG  \n",
            "  inflating: rawdata/training/A/WIN_20230319_221230.JPG  \n",
            "  inflating: rawdata/training/A/WIN_20230319_221231.JPG  \n",
            "  inflating: rawdata/training/A/WIN_20230319_221233.JPG  \n",
            "  inflating: rawdata/training/A/WIN_20230319_221234.JPG  \n",
            "  inflating: rawdata/training/A/WIN_20230319_221236.JPG  \n",
            "  inflating: rawdata/training/A/WIN_20230319_221246.JPG  \n",
            "  inflating: rawdata/training/A/WIN_20230319_221247.JPG  \n",
            "  inflating: rawdata/training/A/WIN_20230319_221248.JPG  \n",
            "  inflating: rawdata/training/A/WIN_20230319_221251.JPG  \n",
            "  inflating: rawdata/training/A/WIN_20230319_221253.JPG  \n",
            "  inflating: rawdata/training/A/WIN_20230319_221254.JPG  \n",
            "  inflating: rawdata/training/A/WIN_20230319_221303.JPG  \n",
            "  inflating: rawdata/training/A/WIN_20230319_221315.JPG  \n",
            "  inflating: rawdata/training/A/WIN_20230320_021456.JPG  \n",
            "  inflating: rawdata/training/A/WIN_20230320_021457.JPG  \n",
            "  inflating: rawdata/training/A/WIN_20230320_021458.JPG  \n",
            "  inflating: rawdata/training/A/WIN_20230320_021459.JPG  \n",
            "  inflating: rawdata/training/A/WIN_20230320_021500.JPG  \n",
            "  inflating: rawdata/training/A/WIN_20230320_021501.JPG  \n",
            "  inflating: rawdata/training/A/WIN_20230320_021502.JPG  \n",
            "  inflating: rawdata/training/A/WIN_20230320_021503.JPG  \n",
            "  inflating: rawdata/training/A/WIN_20230320_021504 (2).JPG  \n",
            "  inflating: rawdata/training/A/WIN_20230320_021504.JPG  \n",
            "  inflating: rawdata/training/A/WIN_20230320_021505.JPG  \n",
            "  inflating: rawdata/training/A/WIN_20230320_021506.JPG  \n",
            "  inflating: rawdata/training/A/WIN_20230320_021508 (2).JPG  \n",
            "  inflating: rawdata/training/A/WIN_20230320_021508.JPG  \n",
            "  inflating: rawdata/training/A/WIN_20230320_021509.JPG  \n",
            "  inflating: rawdata/training/A/WIN_20230320_021510.JPG  \n",
            "  inflating: rawdata/training/A/WIN_20230320_021511.JPG  \n",
            "  inflating: rawdata/training/A/WIN_20230320_021512.JPG  \n",
            "  inflating: rawdata/training/A/WIN_20230320_021513.JPG  \n",
            "  inflating: rawdata/training/A/WIN_20230320_021514.JPG  \n",
            "  inflating: rawdata/training/A/WIN_20230320_021515.JPG  \n",
            "  inflating: rawdata/training/A/WIN_20230320_021516.JPG  \n",
            "  inflating: rawdata/training/A/WIN_20230320_021517.JPG  \n",
            "  inflating: rawdata/training/A/WIN_20230320_021518.JPG  \n",
            "   creating: rawdata/training/Guna/\n",
            "  inflating: rawdata/training/Guna/G.JPG  \n",
            "  inflating: rawdata/training/Guna/Thumbs.db  \n",
            "  inflating: rawdata/training/Guna/WIN_20230319_220845.JPG  \n",
            "  inflating: rawdata/training/Guna/WIN_20230319_220847.JPG  \n",
            "  inflating: rawdata/training/Guna/WIN_20230319_220848.JPG  \n",
            "  inflating: rawdata/training/Guna/WIN_20230319_220849.JPG  \n",
            "  inflating: rawdata/training/Guna/WIN_20230319_220850.JPG  \n",
            "  inflating: rawdata/training/Guna/WIN_20230319_220851.JPG  \n",
            "  inflating: rawdata/training/Guna/WIN_20230319_220852.JPG  \n",
            "  inflating: rawdata/training/Guna/WIN_20230319_220853.JPG  \n",
            "  inflating: rawdata/training/Guna/WIN_20230319_220854.JPG  \n",
            "  inflating: rawdata/training/Guna/WIN_20230319_220855.JPG  \n",
            "  inflating: rawdata/training/Guna/WIN_20230319_220856 (2).JPG  \n",
            "  inflating: rawdata/training/Guna/WIN_20230319_220856.JPG  \n",
            "  inflating: rawdata/training/Guna/WIN_20230319_220858 (2).JPG  \n",
            "  inflating: rawdata/training/Guna/WIN_20230319_220858.JPG  \n",
            "  inflating: rawdata/training/Guna/WIN_20230319_220902.JPG  \n",
            "  inflating: rawdata/training/Guna/WIN_20230319_220904.JPG  \n",
            "  inflating: rawdata/training/Guna/WIN_20230319_220905.JPG  \n",
            "  inflating: rawdata/training/Guna/WIN_20230319_220908.JPG  \n",
            "  inflating: rawdata/training/Guna/WIN_20230320_020528.JPG  \n",
            "  inflating: rawdata/training/Guna/WIN_20230320_020530.JPG  \n",
            "  inflating: rawdata/training/Guna/WIN_20230320_020532.JPG  \n",
            "  inflating: rawdata/training/Guna/WIN_20230320_020533.JPG  \n",
            "  inflating: rawdata/training/Guna/WIN_20230320_020535.JPG  \n",
            "  inflating: rawdata/training/Guna/WIN_20230320_020536.JPG  \n",
            "  inflating: rawdata/training/Guna/WIN_20230320_020537.JPG  \n",
            "  inflating: rawdata/training/Guna/WIN_20230320_020538 (2).JPG  \n",
            "  inflating: rawdata/training/Guna/WIN_20230320_020538.JPG  \n",
            "  inflating: rawdata/training/Guna/WIN_20230320_020539.JPG  \n",
            "  inflating: rawdata/training/Guna/WIN_20230320_020540 (2).JPG  \n",
            "  inflating: rawdata/training/Guna/WIN_20230320_020540.JPG  \n",
            "  inflating: rawdata/training/Guna/WIN_20230320_020541 (2).JPG  \n",
            "  inflating: rawdata/training/Guna/WIN_20230320_020541.JPG  \n",
            "  inflating: rawdata/training/Guna/WIN_20230320_020542 (2).JPG  \n",
            "  inflating: rawdata/training/Guna/WIN_20230320_020542.JPG  \n",
            "  inflating: rawdata/training/Guna/WIN_20230320_020543 (2).JPG  \n",
            "  inflating: rawdata/training/Guna/WIN_20230320_020543.JPG  \n",
            "  inflating: rawdata/training/Guna/WIN_20230320_020604.JPG  \n",
            "  inflating: rawdata/training/Guna/WIN_20230320_020605.JPG  \n",
            "  inflating: rawdata/training/Guna/WIN_20230320_020607.JPG  \n",
            "  inflating: rawdata/training/Guna/WIN_20230320_020609.JPG  \n",
            "  inflating: rawdata/training/Guna/WIN_20230320_020610.JPG  \n",
            "  inflating: rawdata/training/Guna/WIN_20230320_020612.JPG  \n",
            "  inflating: rawdata/training/Guna/WIN_20230320_020614.JPG  \n",
            "  inflating: rawdata/training/Guna/WIN_20230320_020616.JPG  \n",
            "  inflating: rawdata/training/Guna/WIN_20230320_020618.JPG  \n",
            "  inflating: rawdata/training/Guna/WIN_20230320_020620.JPG  \n",
            "  inflating: rawdata/training/Guna/WIN_20230320_020622.JPG  \n",
            "   creating: rawdata/training/MOBBU/\n",
            "  inflating: rawdata/training/MOBBU/Thumbs.db  \n",
            "  inflating: rawdata/training/MOBBU/WIN_20230319_221338.JPG  \n",
            "  inflating: rawdata/training/MOBBU/WIN_20230319_221343.JPG  \n",
            "  inflating: rawdata/training/MOBBU/WIN_20230319_221345.JPG  \n",
            "  inflating: rawdata/training/MOBBU/WIN_20230319_221347.JPG  \n",
            "  inflating: rawdata/training/MOBBU/WIN_20230319_221350.JPG  \n",
            "  inflating: rawdata/training/MOBBU/WIN_20230319_221356.JPG  \n",
            "  inflating: rawdata/training/MOBBU/WIN_20230319_221358.JPG  \n",
            "  inflating: rawdata/training/MOBBU/WIN_20230319_221400.JPG  \n",
            "  inflating: rawdata/training/MOBBU/WIN_20230319_221408.JPG  \n",
            "  inflating: rawdata/training/MOBBU/WIN_20230319_221415.JPG  \n",
            "  inflating: rawdata/training/MOBBU/WIN_20230319_221416.JPG  \n",
            "  inflating: rawdata/training/MOBBU/WIN_20230319_221418.JPG  \n",
            "  inflating: rawdata/training/MOBBU/WIN_20230319_221421.JPG  \n",
            "  inflating: rawdata/training/MOBBU/WIN_20230319_221424.JPG  \n",
            "  inflating: rawdata/training/MOBBU/WIN_20230319_221436.JPG  \n",
            "  inflating: rawdata/training/MOBBU/WIN_20230320_020923.JPG  \n",
            "  inflating: rawdata/training/MOBBU/WIN_20230320_020924.JPG  \n",
            "  inflating: rawdata/training/MOBBU/WIN_20230320_020925.JPG  \n",
            "  inflating: rawdata/training/MOBBU/WIN_20230320_020926.JPG  \n",
            "  inflating: rawdata/training/MOBBU/WIN_20230320_020928.JPG  \n",
            "  inflating: rawdata/training/MOBBU/WIN_20230320_020929.JPG  \n",
            "  inflating: rawdata/training/MOBBU/WIN_20230320_020931.JPG  \n",
            "  inflating: rawdata/training/MOBBU/WIN_20230320_020933.JPG  \n",
            "  inflating: rawdata/training/MOBBU/WIN_20230320_020934.JPG  \n",
            "  inflating: rawdata/training/MOBBU/WIN_20230320_020936.JPG  \n",
            "  inflating: rawdata/training/MOBBU/WIN_20230320_020937.JPG  \n",
            "  inflating: rawdata/training/MOBBU/WIN_20230320_020941.JPG  \n",
            "  inflating: rawdata/training/MOBBU/WIN_20230320_020943.JPG  \n",
            "  inflating: rawdata/training/MOBBU/WIN_20230320_020945.JPG  \n",
            "  inflating: rawdata/training/MOBBU/WIN_20230320_020947.JPG  \n",
            "  inflating: rawdata/training/MOBBU/WIN_20230320_020950.JPG  \n",
            "  inflating: rawdata/training/MOBBU/Zuber.JPG  \n",
            "   creating: rawdata/training/smrithi/\n",
            "  inflating: rawdata/training/smrithi/s1.jpg  \n",
            "  inflating: rawdata/training/smrithi/s10.jpg  \n",
            "  inflating: rawdata/training/smrithi/s2.jpg  \n",
            "  inflating: rawdata/training/smrithi/s3.jpg  \n",
            "  inflating: rawdata/training/smrithi/s4.jpg  \n",
            "  inflating: rawdata/training/smrithi/s5.jpg  \n",
            "  inflating: rawdata/training/smrithi/s6.jpg  \n",
            "  inflating: rawdata/training/smrithi/s7.jpg  \n",
            "  inflating: rawdata/training/smrithi/s8.jpg  \n",
            "  inflating: rawdata/training/smrithi/s9.jpg  \n",
            "  inflating: rawdata/training/smrithi/sm1.jpg  \n",
            "  inflating: rawdata/training/smrithi/sm10.jpg  \n",
            "  inflating: rawdata/training/smrithi/sm11.jpg  \n",
            "  inflating: rawdata/training/smrithi/sm12.jpg  \n",
            "  inflating: rawdata/training/smrithi/sm13.jpg  \n",
            "  inflating: rawdata/training/smrithi/sm15.jpg  \n",
            "  inflating: rawdata/training/smrithi/sm16.jpg  \n",
            "  inflating: rawdata/training/smrithi/sm17.jpg  \n",
            "  inflating: rawdata/training/smrithi/sm18.jpg  \n",
            "  inflating: rawdata/training/smrithi/sm19.jpg  \n",
            "  inflating: rawdata/training/smrithi/sm2.jpg  \n",
            "  inflating: rawdata/training/smrithi/sm20.jpg  \n",
            "  inflating: rawdata/training/smrithi/sm21.jpg  \n",
            "  inflating: rawdata/training/smrithi/sm22.jpg  \n",
            "  inflating: rawdata/training/smrithi/sm23.jpg  \n",
            "  inflating: rawdata/training/smrithi/sm24.jpg  \n",
            "  inflating: rawdata/training/smrithi/sm25.jpg  \n",
            "  inflating: rawdata/training/smrithi/sm26.jpg  \n",
            "  inflating: rawdata/training/smrithi/sm27.jpg  \n",
            "  inflating: rawdata/training/smrithi/sm28.jpg  \n",
            "  inflating: rawdata/training/smrithi/sm29.jpg  \n",
            "  inflating: rawdata/training/smrithi/sm3.jpg  \n",
            "  inflating: rawdata/training/smrithi/sm30.jpg  \n",
            "  inflating: rawdata/training/smrithi/sm4.jpg  \n",
            "  inflating: rawdata/training/smrithi/sm5.jpg  \n",
            "  inflating: rawdata/training/smrithi/sm6.jpg  \n",
            "  inflating: rawdata/training/smrithi/sm7.jpg  \n",
            "  inflating: rawdata/training/smrithi/sm8.jpg  \n",
            "  inflating: rawdata/training/smrithi/sm9.jpg  \n",
            "  inflating: rawdata/training/smrithi/Thumbs.db  \n",
            "   creating: rawdata/training/Umes/\n",
            "  inflating: rawdata/training/Umes/Thumbs.db  \n",
            "  inflating: rawdata/training/Umes/Umesh.JPG  \n",
            "  inflating: rawdata/training/Umes/WIN_20230319_221127.JPG  \n",
            "  inflating: rawdata/training/Umes/WIN_20230319_221129.JPG  \n",
            "  inflating: rawdata/training/Umes/WIN_20230319_221130.JPG  \n",
            "  inflating: rawdata/training/Umes/WIN_20230319_221132.JPG  \n",
            "  inflating: rawdata/training/Umes/WIN_20230319_221133.JPG  \n",
            "  inflating: rawdata/training/Umes/WIN_20230319_221135.JPG  \n",
            "  inflating: rawdata/training/Umes/WIN_20230319_221136.JPG  \n",
            "  inflating: rawdata/training/Umes/WIN_20230319_221139.JPG  \n",
            "  inflating: rawdata/training/Umes/WIN_20230319_221140.JPG  \n",
            "  inflating: rawdata/training/Umes/WIN_20230319_221142.JPG  \n",
            "  inflating: rawdata/training/Umes/WIN_20230319_221144.JPG  \n",
            "  inflating: rawdata/training/Umes/WIN_20230319_221145.JPG  \n",
            "  inflating: rawdata/training/Umes/WIN_20230319_221149.JPG  \n",
            "  inflating: rawdata/training/Umes/WIN_20230319_221151.JPG  \n",
            "  inflating: rawdata/training/Umes/WIN_20230319_221153.JPG  \n",
            "  inflating: rawdata/training/Umes/WIN_20230320_020748.JPG  \n",
            "  inflating: rawdata/training/Umes/WIN_20230320_020749.JPG  \n",
            "  inflating: rawdata/training/Umes/WIN_20230320_020750 (2).JPG  \n",
            "  inflating: rawdata/training/Umes/WIN_20230320_020750.JPG  \n",
            "  inflating: rawdata/training/Umes/WIN_20230320_020751.JPG  \n",
            "  inflating: rawdata/training/Umes/WIN_20230320_020752.JPG  \n",
            "  inflating: rawdata/training/Umes/WIN_20230320_020753.JPG  \n",
            "  inflating: rawdata/training/Umes/WIN_20230320_020754.JPG  \n",
            "  inflating: rawdata/training/Umes/WIN_20230320_020755.JPG  \n",
            "  inflating: rawdata/training/Umes/WIN_20230320_020756.JPG  \n",
            "  inflating: rawdata/training/Umes/WIN_20230320_020757.JPG  \n",
            "  inflating: rawdata/training/Umes/WIN_20230320_020758.JPG  \n",
            "  inflating: rawdata/training/Umes/WIN_20230320_020759.JPG  \n",
            "  inflating: rawdata/training/Umes/WIN_20230320_020801.JPG  \n",
            "  inflating: rawdata/training/Umes/WIN_20230320_020804.JPG  \n",
            "  inflating: rawdata/training/Umes/WIN_20230320_020806.JPG  \n",
            "  inflating: rawdata/training/Umes/WIN_20230320_020808.JPG  \n",
            "  inflating: rawdata/training/Umes/WIN_20230320_020810.JPG  \n",
            "  inflating: rawdata/training/Umes/WIN_20230320_020812.JPG  \n",
            "  inflating: rawdata/training/Umes/WIN_20230320_020817.JPG  \n",
            "  inflating: rawdata/training/Umes/WIN_20230320_020819.JPG  \n",
            "  inflating: rawdata/training/Umes/WIN_20230320_020820.JPG  \n",
            "  inflating: rawdata/training/Umes/WIN_20230320_020821.JPG  \n",
            "  inflating: rawdata/training/Umes/WIN_20230320_020823.JPG  \n",
            "  inflating: rawdata/training/Umes/WIN_20230320_020824.JPG  \n",
            "  inflating: rawdata/training/Umes/WIN_20230320_020825.JPG  \n",
            "  inflating: rawdata/training/Umes/WIN_20230320_020826.JPG  \n",
            "  inflating: rawdata/training/Umes/WIN_20230320_020828.JPG  \n",
            "  inflating: rawdata/training/Umes/WIN_20230320_020829.JPG  \n",
            "  inflating: rawdata/training/Umes/WIN_20230320_020830.JPG  \n",
            "  inflating: rawdata/training/Umes/WIN_20230320_020831.JPG  \n",
            "  inflating: rawdata/training/Umes/WIN_20230320_020832.JPG  \n",
            "  inflating: rawdata/training/Umes/WIN_20230320_020833.JPG  \n",
            "  inflating: rawdata/training/Umes/WIN_20230320_020834.JPG  \n",
            "  inflating: rawdata/training/Umes/WIN_20230320_020835.JPG  \n",
            "  inflating: rawdata/training/Umes/WIN_20230320_020838.JPG  \n",
            "  inflating: rawdata/training/Umes/WIN_20230320_020839.JPG  \n",
            "  inflating: rawdata/training/Umes/WIN_20230320_020841.JPG  \n",
            "  inflating: rawdata/training/Umes/WIN_20230320_020842.JPG  \n",
            "  inflating: rawdata/training/Umes/WIN_20230320_020844.JPG  \n",
            "  inflating: rawdata/training/Umes/WIN_20230320_020845.JPG  \n",
            "  inflating: rawdata/training/Umes/WIN_20230320_020847.JPG  \n",
            "  inflating: rawdata/training/Umes/WIN_20230320_020848.JPG  \n",
            "  inflating: rawdata/training/Umes/WIN_20230320_020849.JPG  \n",
            "  inflating: rawdata/training/Umes/WIN_20230320_020851.JPG  \n",
            "  inflating: rawdata/training/Umes/WIN_20230320_020854.JPG  \n",
            "   creating: rawdata/training/virat/\n",
            "  inflating: rawdata/training/virat/Thumbs.db  \n",
            "  inflating: rawdata/training/virat/v1.jpg  \n",
            "  inflating: rawdata/training/virat/v10.jpg  \n",
            "  inflating: rawdata/training/virat/v11.jpg  \n",
            "  inflating: rawdata/training/virat/v12.jpg  \n",
            "  inflating: rawdata/training/virat/v13.jpg  \n",
            "  inflating: rawdata/training/virat/v14.jpg  \n",
            "  inflating: rawdata/training/virat/v15.jpg  \n",
            "  inflating: rawdata/training/virat/v16.jpg  \n",
            "  inflating: rawdata/training/virat/v17.jpg  \n",
            "  inflating: rawdata/training/virat/v18.jpg  \n",
            "  inflating: rawdata/training/virat/v19.jpg  \n",
            "  inflating: rawdata/training/virat/v2.jpg  \n",
            "  inflating: rawdata/training/virat/v20.jpg  \n",
            "  inflating: rawdata/training/virat/v21.jpg  \n",
            "  inflating: rawdata/training/virat/v22.jpg  \n",
            "  inflating: rawdata/training/virat/v23.jpg  \n",
            "  inflating: rawdata/training/virat/v24.jpg  \n",
            "  inflating: rawdata/training/virat/v25.jpg  \n",
            "  inflating: rawdata/training/virat/v26.jpg  \n",
            "  inflating: rawdata/training/virat/v27.jpg  \n",
            "  inflating: rawdata/training/virat/v28.jpg  \n",
            "  inflating: rawdata/training/virat/v29.jpg  \n",
            "  inflating: rawdata/training/virat/v3.jpg  \n",
            "  inflating: rawdata/training/virat/v30.jpg  \n",
            "  inflating: rawdata/training/virat/v31.jpg  \n",
            "  inflating: rawdata/training/virat/v4.jpg  \n",
            "  inflating: rawdata/training/virat/v5.jpg  \n",
            "  inflating: rawdata/training/virat/v6.jpg  \n",
            "  inflating: rawdata/training/virat/v7.jpg  \n",
            "  inflating: rawdata/training/virat/v8.jpg  \n",
            "  inflating: rawdata/training/virat/v9.jpg  \n",
            "  inflating: rawdata/training/virat/virat.jpg  \n",
            "  inflating: rawdata/training/virat/virat1.jpg  \n",
            "  inflating: rawdata/training/virat/virat10.jpg  \n",
            "  inflating: rawdata/training/virat/virat2.jpg  \n",
            "  inflating: rawdata/training/virat/virat3.jpg  \n",
            "  inflating: rawdata/training/virat/virat4.jpg  \n",
            "  inflating: rawdata/training/virat/virat5.jpg  \n",
            "  inflating: rawdata/training/virat/virat6.jpg  \n",
            "  inflating: rawdata/training/virat/virat7.jpg  \n",
            "  inflating: rawdata/training/virat/virat9.jpg  \n",
            "   creating: rawdata/training/Y/\n",
            "  inflating: rawdata/training/Y/Hari.JPG  \n",
            "  inflating: rawdata/training/Y/Thumbs.db  \n",
            "  inflating: rawdata/training/Y/WIN_20230319_221034.JPG  \n",
            "  inflating: rawdata/training/Y/WIN_20230319_221035.JPG  \n",
            "  inflating: rawdata/training/Y/WIN_20230319_221037.JPG  \n",
            "  inflating: rawdata/training/Y/WIN_20230319_221038.JPG  \n",
            "  inflating: rawdata/training/Y/WIN_20230319_221040.JPG  \n",
            "  inflating: rawdata/training/Y/WIN_20230319_221042.JPG  \n",
            "  inflating: rawdata/training/Y/WIN_20230319_221043.JPG  \n",
            "  inflating: rawdata/training/Y/WIN_20230319_221045.JPG  \n",
            "  inflating: rawdata/training/Y/WIN_20230319_221046.JPG  \n",
            "  inflating: rawdata/training/Y/WIN_20230319_221048.JPG  \n",
            "  inflating: rawdata/training/Y/WIN_20230319_221052.JPG  \n",
            "  inflating: rawdata/training/Y/WIN_20230319_221053.JPG  \n",
            "  inflating: rawdata/training/Y/WIN_20230319_221055.JPG  \n",
            "  inflating: rawdata/training/Y/WIN_20230319_221057.JPG  \n",
            "  inflating: rawdata/training/Y/WIN_20230319_221059.JPG  \n",
            "  inflating: rawdata/training/Y/WIN_20230319_221101.JPG  \n",
            "  inflating: rawdata/training/Y/WIN_20230319_221103.JPG  \n",
            "  inflating: rawdata/training/Y/WIN_20230319_221104.JPG  \n",
            "  inflating: rawdata/training/Y/WIN_20230319_221109.JPG  \n",
            "  inflating: rawdata/training/Y/WIN_20230320_021035.JPG  \n",
            "  inflating: rawdata/training/Y/WIN_20230320_021038.JPG  \n",
            "  inflating: rawdata/training/Y/WIN_20230320_021040.JPG  \n",
            "  inflating: rawdata/training/Y/WIN_20230320_021042.JPG  \n",
            "  inflating: rawdata/training/Y/WIN_20230320_021045.JPG  \n",
            "  inflating: rawdata/training/Y/WIN_20230320_021048.JPG  \n",
            "  inflating: rawdata/training/Y/WIN_20230320_021050.JPG  \n",
            "  inflating: rawdata/training/Y/WIN_20230320_021051.JPG  \n",
            "  inflating: rawdata/training/Y/WIN_20230320_021053.JPG  \n",
            "  inflating: rawdata/training/Y/WIN_20230320_021054.JPG  \n",
            "  inflating: rawdata/training/Y/WIN_20230320_021056.JPG  \n",
            "  inflating: rawdata/training/Y/WIN_20230320_021058.JPG  \n",
            "  inflating: rawdata/training/Y/WIN_20230320_021100.JPG  \n",
            "  inflating: rawdata/training/Y/WIN_20230320_021101.JPG  \n",
            "  inflating: rawdata/training/Y/WIN_20230320_021102.JPG  \n",
            "  inflating: rawdata/training/Y/WIN_20230320_021105.JPG  \n",
            "  inflating: rawdata/training/Y/WIN_20230320_021109.JPG  \n",
            "  inflating: rawdata/training/Y/WIN_20230320_021110.JPG  \n",
            "  inflating: rawdata/training/Y/WIN_20230320_021111.JPG  \n",
            "  inflating: rawdata/training/Y/WIN_20230320_021112.JPG  \n"
          ]
        }
      ],
      "source": [
        "!unzip '/content/drive/MyDrive/dataset/rawdata.zip'"
      ]
    },
    {
      "cell_type": "code",
      "execution_count": 5,
      "metadata": {
        "id": "KL4FlAEhz-l0"
      },
      "outputs": [],
      "source": [
        "from tensorflow.keras.preprocessing.image import ImageDataGenerator"
      ]
    },
    {
      "cell_type": "code",
      "execution_count": 6,
      "metadata": {
        "id": "_9jyu1r4z-iC"
      },
      "outputs": [],
      "source": [
        "train_datagen = ImageDataGenerator(rescale=1./255,zoom_range=0.2,horizontal_flip=True)"
      ]
    },
    {
      "cell_type": "code",
      "execution_count": 7,
      "metadata": {
        "id": "ORA-pHUjz-aK"
      },
      "outputs": [],
      "source": [
        "test_datagen = ImageDataGenerator(rescale=1./255)"
      ]
    },
    {
      "cell_type": "code",
      "execution_count": 27,
      "metadata": {
        "colab": {
          "base_uri": "https://localhost:8080/"
        },
        "id": "dUBy0Crqz99a",
        "outputId": "89f0feb2-7e59-48b7-bb4a-90f0f2989100"
      },
      "outputs": [
        {
          "output_type": "stream",
          "name": "stdout",
          "text": [
            "Found 304 images belonging to 7 classes.\n"
          ]
        }
      ],
      "source": [
        "xtrain = train_datagen.flow_from_directory('/content/rawdata/training',target_size=(64,64),class_mode='categorical',batch_size=25)"
      ]
    },
    {
      "cell_type": "code",
      "execution_count": 28,
      "metadata": {
        "colab": {
          "base_uri": "https://localhost:8080/"
        },
        "id": "I9o4RzeP3ztk",
        "outputId": "fa2ebcba-f88c-4d88-a236-69f9c3bc4ab3"
      },
      "outputs": [
        {
          "output_type": "stream",
          "name": "stdout",
          "text": [
            "Found 35 images belonging to 7 classes.\n"
          ]
        }
      ],
      "source": [
        "xtest = test_datagen.flow_from_directory('/content/rawdata/testing',target_size=(64,64),class_mode='categorical',batch_size=25)"
      ]
    },
    {
      "cell_type": "code",
      "execution_count": 29,
      "metadata": {
        "id": "nwdvSbuN3zor"
      },
      "outputs": [],
      "source": [
        "#model Training\n",
        "from tensorflow.keras.models import Sequential\n",
        "from tensorflow.keras.layers import Convolution2D, MaxPooling2D,Flatten,Dense"
      ]
    },
    {
      "cell_type": "code",
      "execution_count": 30,
      "metadata": {
        "id": "mf7dxAOn3zgr"
      },
      "outputs": [],
      "source": [
        "model = Sequential() # Initializing sequential model\n",
        "model.add(Convolution2D(32,(3,3),activation='relu',input_shape=(64,64,3))) # convolution layer\n",
        "model.add(MaxPooling2D(pool_size=(2, 2))) # Max pooling layer\n",
        "model.add(Flatten()) # Flatten layer\n",
        "model.add(Dense(200,activation='relu')) # Hidden layer 1\n",
        "model.add(Dense(100,activation='relu')) # Hidden layer 2\n",
        "model.add(Dense(7,activation='softmax')) # Output layer"
      ]
    },
    {
      "cell_type": "code",
      "execution_count": 31,
      "metadata": {
        "id": "7CZnXnoB3zaL"
      },
      "outputs": [],
      "source": [
        "model.compile(optimizer='adam',loss='categorical_crossentropy',metrics=['accuracy'])"
      ]
    },
    {
      "cell_type": "code",
      "execution_count": 32,
      "metadata": {
        "colab": {
          "base_uri": "https://localhost:8080/"
        },
        "id": "4Xv1YiW53zUG",
        "outputId": "aea88cd0-aebc-457b-d20a-a965c00b720c"
      },
      "outputs": [
        {
          "output_type": "stream",
          "name": "stderr",
          "text": [
            "<ipython-input-32-95718861f768>:1: UserWarning: `Model.fit_generator` is deprecated and will be removed in a future version. Please use `Model.fit`, which supports generators.\n",
            "  model.fit_generator(xtrain,\n"
          ]
        },
        {
          "output_type": "stream",
          "name": "stdout",
          "text": [
            "Epoch 1/100\n",
            "13/13 [==============================] - 6s 380ms/step - loss: 2.1454 - accuracy: 0.1974 - val_loss: 1.9597 - val_accuracy: 0.2286\n",
            "Epoch 2/100\n",
            "13/13 [==============================] - 3s 241ms/step - loss: 1.4433 - accuracy: 0.5164 - val_loss: 2.4309 - val_accuracy: 0.2857\n",
            "Epoch 3/100\n",
            "13/13 [==============================] - 4s 297ms/step - loss: 0.9858 - accuracy: 0.7270 - val_loss: 3.5294 - val_accuracy: 0.4000\n",
            "Epoch 4/100\n",
            "13/13 [==============================] - 4s 282ms/step - loss: 0.6348 - accuracy: 0.8026 - val_loss: 3.6064 - val_accuracy: 0.2857\n",
            "Epoch 5/100\n",
            "13/13 [==============================] - 3s 232ms/step - loss: 0.4549 - accuracy: 0.8750 - val_loss: 4.3805 - val_accuracy: 0.3714\n",
            "Epoch 6/100\n",
            "13/13 [==============================] - 3s 234ms/step - loss: 0.4043 - accuracy: 0.8849 - val_loss: 4.8122 - val_accuracy: 0.4000\n",
            "Epoch 7/100\n",
            "13/13 [==============================] - 4s 297ms/step - loss: 0.3303 - accuracy: 0.8816 - val_loss: 5.1918 - val_accuracy: 0.3429\n",
            "Epoch 8/100\n",
            "13/13 [==============================] - 4s 295ms/step - loss: 0.2309 - accuracy: 0.9474 - val_loss: 5.3217 - val_accuracy: 0.3714\n",
            "Epoch 9/100\n",
            "13/13 [==============================] - 3s 237ms/step - loss: 0.1637 - accuracy: 0.9605 - val_loss: 5.6018 - val_accuracy: 0.3714\n",
            "Epoch 10/100\n",
            "13/13 [==============================] - 3s 238ms/step - loss: 0.1458 - accuracy: 0.9605 - val_loss: 5.7912 - val_accuracy: 0.3714\n",
            "Epoch 11/100\n",
            "13/13 [==============================] - 4s 306ms/step - loss: 0.1358 - accuracy: 0.9671 - val_loss: 6.2618 - val_accuracy: 0.4000\n",
            "Epoch 12/100\n",
            "13/13 [==============================] - 4s 290ms/step - loss: 0.1362 - accuracy: 0.9638 - val_loss: 6.1563 - val_accuracy: 0.4000\n",
            "Epoch 13/100\n",
            "13/13 [==============================] - 3s 239ms/step - loss: 0.0834 - accuracy: 0.9737 - val_loss: 6.2444 - val_accuracy: 0.4000\n",
            "Epoch 14/100\n",
            "13/13 [==============================] - 3s 231ms/step - loss: 0.1103 - accuracy: 0.9638 - val_loss: 6.6276 - val_accuracy: 0.2857\n",
            "Epoch 15/100\n",
            "13/13 [==============================] - 3s 237ms/step - loss: 0.1397 - accuracy: 0.9507 - val_loss: 6.5472 - val_accuracy: 0.3429\n",
            "Epoch 16/100\n",
            "13/13 [==============================] - 3s 239ms/step - loss: 0.1623 - accuracy: 0.9507 - val_loss: 6.4732 - val_accuracy: 0.3143\n",
            "Epoch 17/100\n",
            "13/13 [==============================] - 3s 234ms/step - loss: 0.1701 - accuracy: 0.9309 - val_loss: 6.3428 - val_accuracy: 0.3714\n",
            "Epoch 18/100\n",
            "13/13 [==============================] - 5s 358ms/step - loss: 0.1197 - accuracy: 0.9638 - val_loss: 6.2394 - val_accuracy: 0.2857\n",
            "Epoch 19/100\n",
            "13/13 [==============================] - 3s 234ms/step - loss: 0.0813 - accuracy: 0.9836 - val_loss: 6.3709 - val_accuracy: 0.4000\n",
            "Epoch 20/100\n",
            "13/13 [==============================] - 3s 230ms/step - loss: 0.0619 - accuracy: 0.9803 - val_loss: 6.6518 - val_accuracy: 0.4000\n",
            "Epoch 21/100\n",
            "13/13 [==============================] - 3s 240ms/step - loss: 0.0485 - accuracy: 0.9868 - val_loss: 7.0557 - val_accuracy: 0.4000\n",
            "Epoch 22/100\n",
            "13/13 [==============================] - 5s 361ms/step - loss: 0.0447 - accuracy: 0.9803 - val_loss: 7.6351 - val_accuracy: 0.4000\n",
            "Epoch 23/100\n",
            "13/13 [==============================] - 3s 241ms/step - loss: 0.0514 - accuracy: 0.9770 - val_loss: 7.4184 - val_accuracy: 0.4000\n",
            "Epoch 24/100\n",
            "13/13 [==============================] - 3s 239ms/step - loss: 0.1288 - accuracy: 0.9539 - val_loss: 6.4092 - val_accuracy: 0.4000\n",
            "Epoch 25/100\n",
            "13/13 [==============================] - 3s 234ms/step - loss: 0.0514 - accuracy: 0.9901 - val_loss: 6.3695 - val_accuracy: 0.3429\n",
            "Epoch 26/100\n",
            "13/13 [==============================] - 5s 364ms/step - loss: 0.0556 - accuracy: 0.9770 - val_loss: 6.9703 - val_accuracy: 0.4286\n",
            "Epoch 27/100\n",
            "13/13 [==============================] - 3s 242ms/step - loss: 0.0250 - accuracy: 1.0000 - val_loss: 7.5039 - val_accuracy: 0.4000\n",
            "Epoch 28/100\n",
            "13/13 [==============================] - 3s 231ms/step - loss: 0.0187 - accuracy: 1.0000 - val_loss: 7.8637 - val_accuracy: 0.4286\n",
            "Epoch 29/100\n",
            "13/13 [==============================] - 3s 233ms/step - loss: 0.0199 - accuracy: 0.9934 - val_loss: 8.2537 - val_accuracy: 0.4000\n",
            "Epoch 30/100\n",
            "13/13 [==============================] - 5s 359ms/step - loss: 0.0397 - accuracy: 0.9836 - val_loss: 8.0577 - val_accuracy: 0.3714\n",
            "Epoch 31/100\n",
            "13/13 [==============================] - 3s 234ms/step - loss: 0.0236 - accuracy: 0.9934 - val_loss: 8.0397 - val_accuracy: 0.4000\n",
            "Epoch 32/100\n",
            "13/13 [==============================] - 3s 229ms/step - loss: 0.0258 - accuracy: 0.9934 - val_loss: 7.4977 - val_accuracy: 0.4000\n",
            "Epoch 33/100\n",
            "13/13 [==============================] - 3s 256ms/step - loss: 0.0174 - accuracy: 0.9934 - val_loss: 7.4943 - val_accuracy: 0.4286\n",
            "Epoch 34/100\n",
            "13/13 [==============================] - 5s 357ms/step - loss: 0.0157 - accuracy: 1.0000 - val_loss: 7.8631 - val_accuracy: 0.4286\n",
            "Epoch 35/100\n",
            "13/13 [==============================] - 3s 233ms/step - loss: 0.0159 - accuracy: 1.0000 - val_loss: 8.0913 - val_accuracy: 0.4000\n",
            "Epoch 36/100\n",
            "13/13 [==============================] - 3s 231ms/step - loss: 0.0202 - accuracy: 0.9967 - val_loss: 8.2649 - val_accuracy: 0.4000\n",
            "Epoch 37/100\n",
            "13/13 [==============================] - 3s 231ms/step - loss: 0.0110 - accuracy: 1.0000 - val_loss: 7.7932 - val_accuracy: 0.3714\n",
            "Epoch 38/100\n",
            "13/13 [==============================] - 5s 370ms/step - loss: 0.0169 - accuracy: 0.9967 - val_loss: 8.3411 - val_accuracy: 0.4000\n",
            "Epoch 39/100\n",
            "13/13 [==============================] - 3s 236ms/step - loss: 0.0178 - accuracy: 0.9934 - val_loss: 8.4564 - val_accuracy: 0.4000\n",
            "Epoch 40/100\n",
            "13/13 [==============================] - 3s 233ms/step - loss: 0.0108 - accuracy: 1.0000 - val_loss: 8.2232 - val_accuracy: 0.4000\n",
            "Epoch 41/100\n",
            "13/13 [==============================] - 3s 241ms/step - loss: 0.0199 - accuracy: 0.9934 - val_loss: 8.6060 - val_accuracy: 0.4000\n",
            "Epoch 42/100\n",
            "13/13 [==============================] - 5s 378ms/step - loss: 0.0099 - accuracy: 1.0000 - val_loss: 8.2579 - val_accuracy: 0.4286\n",
            "Epoch 43/100\n",
            "13/13 [==============================] - 3s 236ms/step - loss: 0.0059 - accuracy: 1.0000 - val_loss: 8.3855 - val_accuracy: 0.4286\n",
            "Epoch 44/100\n",
            "13/13 [==============================] - 3s 238ms/step - loss: 0.0050 - accuracy: 1.0000 - val_loss: 8.8585 - val_accuracy: 0.4000\n",
            "Epoch 45/100\n",
            "13/13 [==============================] - 3s 240ms/step - loss: 0.0031 - accuracy: 1.0000 - val_loss: 9.3545 - val_accuracy: 0.4286\n",
            "Epoch 46/100\n",
            "13/13 [==============================] - 5s 370ms/step - loss: 0.0030 - accuracy: 1.0000 - val_loss: 9.2364 - val_accuracy: 0.4286\n",
            "Epoch 47/100\n",
            "13/13 [==============================] - 3s 234ms/step - loss: 0.0056 - accuracy: 1.0000 - val_loss: 9.3421 - val_accuracy: 0.4000\n",
            "Epoch 48/100\n",
            "13/13 [==============================] - 3s 231ms/step - loss: 0.0036 - accuracy: 1.0000 - val_loss: 9.6384 - val_accuracy: 0.4000\n",
            "Epoch 49/100\n",
            "13/13 [==============================] - 3s 235ms/step - loss: 0.0130 - accuracy: 0.9934 - val_loss: 8.9310 - val_accuracy: 0.4000\n",
            "Epoch 50/100\n",
            "13/13 [==============================] - 5s 367ms/step - loss: 0.0274 - accuracy: 0.9967 - val_loss: 7.0116 - val_accuracy: 0.2000\n",
            "Epoch 51/100\n",
            "13/13 [==============================] - 3s 238ms/step - loss: 0.0348 - accuracy: 0.9901 - val_loss: 7.0708 - val_accuracy: 0.4000\n",
            "Epoch 52/100\n",
            "13/13 [==============================] - 3s 235ms/step - loss: 0.0205 - accuracy: 0.9967 - val_loss: 8.2046 - val_accuracy: 0.4000\n",
            "Epoch 53/100\n",
            "13/13 [==============================] - 3s 238ms/step - loss: 0.0288 - accuracy: 0.9934 - val_loss: 8.3270 - val_accuracy: 0.4000\n",
            "Epoch 54/100\n",
            "13/13 [==============================] - 5s 368ms/step - loss: 0.0192 - accuracy: 0.9934 - val_loss: 8.1728 - val_accuracy: 0.4286\n",
            "Epoch 55/100\n",
            "13/13 [==============================] - 3s 238ms/step - loss: 0.0075 - accuracy: 1.0000 - val_loss: 8.9266 - val_accuracy: 0.4286\n",
            "Epoch 56/100\n",
            "13/13 [==============================] - 3s 236ms/step - loss: 0.0288 - accuracy: 0.9868 - val_loss: 8.9844 - val_accuracy: 0.4000\n",
            "Epoch 57/100\n",
            "13/13 [==============================] - 3s 234ms/step - loss: 0.0084 - accuracy: 1.0000 - val_loss: 8.7633 - val_accuracy: 0.4000\n",
            "Epoch 58/100\n",
            "13/13 [==============================] - 5s 389ms/step - loss: 0.0081 - accuracy: 0.9967 - val_loss: 9.2506 - val_accuracy: 0.4000\n",
            "Epoch 59/100\n",
            "13/13 [==============================] - 3s 253ms/step - loss: 0.0138 - accuracy: 0.9934 - val_loss: 8.7180 - val_accuracy: 0.4286\n",
            "Epoch 60/100\n",
            "13/13 [==============================] - 3s 244ms/step - loss: 0.0120 - accuracy: 0.9967 - val_loss: 8.6389 - val_accuracy: 0.4286\n",
            "Epoch 61/100\n",
            "13/13 [==============================] - 3s 236ms/step - loss: 0.0040 - accuracy: 1.0000 - val_loss: 9.2407 - val_accuracy: 0.4000\n",
            "Epoch 62/100\n",
            "13/13 [==============================] - 5s 366ms/step - loss: 0.0020 - accuracy: 1.0000 - val_loss: 9.3808 - val_accuracy: 0.4000\n",
            "Epoch 63/100\n",
            "13/13 [==============================] - 3s 234ms/step - loss: 0.0115 - accuracy: 0.9934 - val_loss: 9.0402 - val_accuracy: 0.4286\n",
            "Epoch 64/100\n",
            "13/13 [==============================] - 3s 240ms/step - loss: 0.0176 - accuracy: 0.9967 - val_loss: 9.0782 - val_accuracy: 0.4000\n",
            "Epoch 65/100\n",
            "13/13 [==============================] - 3s 248ms/step - loss: 0.0073 - accuracy: 1.0000 - val_loss: 9.2143 - val_accuracy: 0.4000\n",
            "Epoch 66/100\n",
            "13/13 [==============================] - 5s 401ms/step - loss: 0.0040 - accuracy: 1.0000 - val_loss: 8.5413 - val_accuracy: 0.4000\n",
            "Epoch 67/100\n",
            "13/13 [==============================] - 3s 251ms/step - loss: 0.0025 - accuracy: 1.0000 - val_loss: 9.1171 - val_accuracy: 0.4286\n",
            "Epoch 68/100\n",
            "13/13 [==============================] - 3s 239ms/step - loss: 0.0022 - accuracy: 1.0000 - val_loss: 9.6053 - val_accuracy: 0.4286\n",
            "Epoch 69/100\n",
            "13/13 [==============================] - 3s 261ms/step - loss: 0.0011 - accuracy: 1.0000 - val_loss: 9.7185 - val_accuracy: 0.4286\n",
            "Epoch 70/100\n",
            "13/13 [==============================] - 4s 331ms/step - loss: 0.0055 - accuracy: 0.9967 - val_loss: 9.7804 - val_accuracy: 0.4286\n",
            "Epoch 71/100\n",
            "13/13 [==============================] - 3s 230ms/step - loss: 0.0058 - accuracy: 1.0000 - val_loss: 9.3476 - val_accuracy: 0.3714\n",
            "Epoch 72/100\n",
            "13/13 [==============================] - 3s 229ms/step - loss: 0.0066 - accuracy: 1.0000 - val_loss: 10.0802 - val_accuracy: 0.4000\n",
            "Epoch 73/100\n",
            "13/13 [==============================] - 3s 266ms/step - loss: 0.0013 - accuracy: 1.0000 - val_loss: 9.8062 - val_accuracy: 0.4000\n",
            "Epoch 74/100\n",
            "13/13 [==============================] - 3s 231ms/step - loss: 0.0026 - accuracy: 1.0000 - val_loss: 9.9802 - val_accuracy: 0.4000\n",
            "Epoch 75/100\n",
            "13/13 [==============================] - 3s 240ms/step - loss: 0.0124 - accuracy: 0.9967 - val_loss: 8.9198 - val_accuracy: 0.4000\n",
            "Epoch 76/100\n",
            "13/13 [==============================] - 3s 236ms/step - loss: 0.0069 - accuracy: 1.0000 - val_loss: 8.7414 - val_accuracy: 0.4000\n",
            "Epoch 77/100\n",
            "13/13 [==============================] - 5s 371ms/step - loss: 0.0046 - accuracy: 1.0000 - val_loss: 8.9317 - val_accuracy: 0.4000\n",
            "Epoch 78/100\n",
            "13/13 [==============================] - 3s 237ms/step - loss: 0.0025 - accuracy: 1.0000 - val_loss: 9.4708 - val_accuracy: 0.4000\n",
            "Epoch 79/100\n",
            "13/13 [==============================] - 3s 237ms/step - loss: 0.0099 - accuracy: 0.9967 - val_loss: 9.2218 - val_accuracy: 0.4000\n",
            "Epoch 80/100\n",
            "13/13 [==============================] - 3s 232ms/step - loss: 0.0020 - accuracy: 1.0000 - val_loss: 9.3444 - val_accuracy: 0.4000\n",
            "Epoch 81/100\n",
            "13/13 [==============================] - 5s 367ms/step - loss: 0.0076 - accuracy: 1.0000 - val_loss: 9.4895 - val_accuracy: 0.4000\n",
            "Epoch 82/100\n",
            "13/13 [==============================] - 3s 237ms/step - loss: 0.0104 - accuracy: 0.9967 - val_loss: 9.1217 - val_accuracy: 0.4000\n",
            "Epoch 83/100\n",
            "13/13 [==============================] - 3s 238ms/step - loss: 0.0184 - accuracy: 0.9967 - val_loss: 8.6037 - val_accuracy: 0.4286\n",
            "Epoch 84/100\n",
            "13/13 [==============================] - 3s 232ms/step - loss: 0.0070 - accuracy: 0.9967 - val_loss: 7.9272 - val_accuracy: 0.4286\n",
            "Epoch 85/100\n",
            "13/13 [==============================] - 5s 369ms/step - loss: 0.0030 - accuracy: 1.0000 - val_loss: 8.6520 - val_accuracy: 0.4000\n",
            "Epoch 86/100\n",
            "13/13 [==============================] - 3s 231ms/step - loss: 0.0021 - accuracy: 1.0000 - val_loss: 9.3309 - val_accuracy: 0.4000\n",
            "Epoch 87/100\n",
            "13/13 [==============================] - 3s 254ms/step - loss: 0.0013 - accuracy: 1.0000 - val_loss: 9.4570 - val_accuracy: 0.4286\n",
            "Epoch 88/100\n",
            "13/13 [==============================] - 3s 253ms/step - loss: 0.0016 - accuracy: 1.0000 - val_loss: 9.7013 - val_accuracy: 0.4286\n",
            "Epoch 89/100\n",
            "13/13 [==============================] - 5s 361ms/step - loss: 7.4073e-04 - accuracy: 1.0000 - val_loss: 9.8360 - val_accuracy: 0.4286\n",
            "Epoch 90/100\n",
            "13/13 [==============================] - 3s 236ms/step - loss: 9.2045e-04 - accuracy: 1.0000 - val_loss: 9.9366 - val_accuracy: 0.4286\n",
            "Epoch 91/100\n",
            "13/13 [==============================] - 3s 239ms/step - loss: 6.9153e-04 - accuracy: 1.0000 - val_loss: 10.1559 - val_accuracy: 0.4286\n",
            "Epoch 92/100\n",
            "13/13 [==============================] - 3s 236ms/step - loss: 6.0457e-04 - accuracy: 1.0000 - val_loss: 10.1336 - val_accuracy: 0.4286\n",
            "Epoch 93/100\n",
            "13/13 [==============================] - 5s 371ms/step - loss: 5.6767e-04 - accuracy: 1.0000 - val_loss: 10.1744 - val_accuracy: 0.4286\n",
            "Epoch 94/100\n",
            "13/13 [==============================] - 3s 240ms/step - loss: 3.5576e-04 - accuracy: 1.0000 - val_loss: 10.2720 - val_accuracy: 0.4000\n",
            "Epoch 95/100\n",
            "13/13 [==============================] - 3s 235ms/step - loss: 6.4860e-04 - accuracy: 1.0000 - val_loss: 10.5678 - val_accuracy: 0.4286\n",
            "Epoch 96/100\n",
            "13/13 [==============================] - 3s 239ms/step - loss: 0.0014 - accuracy: 1.0000 - val_loss: 10.4665 - val_accuracy: 0.4286\n",
            "Epoch 97/100\n",
            "13/13 [==============================] - 5s 365ms/step - loss: 0.0014 - accuracy: 1.0000 - val_loss: 10.1851 - val_accuracy: 0.4000\n",
            "Epoch 98/100\n",
            "13/13 [==============================] - 3s 236ms/step - loss: 9.0160e-04 - accuracy: 1.0000 - val_loss: 10.2408 - val_accuracy: 0.4000\n",
            "Epoch 99/100\n",
            "13/13 [==============================] - 3s 231ms/step - loss: 8.9144e-04 - accuracy: 1.0000 - val_loss: 10.3629 - val_accuracy: 0.4286\n",
            "Epoch 100/100\n",
            "13/13 [==============================] - 3s 232ms/step - loss: 2.0048e-04 - accuracy: 1.0000 - val_loss: 10.5232 - val_accuracy: 0.4286\n"
          ]
        },
        {
          "output_type": "execute_result",
          "data": {
            "text/plain": [
              "<keras.callbacks.History at 0x7fd100330ac0>"
            ]
          },
          "metadata": {},
          "execution_count": 32
        }
      ],
      "source": [
        "model.fit_generator(xtrain,\n",
        "                    steps_per_epoch=len(xtrain),\n",
        "                    epochs=100,\n",
        "                    validation_data=xtest,\n",
        "                    validation_steps=len(xtest))"
      ]
    },
    {
      "cell_type": "code",
      "execution_count": 34,
      "metadata": {
        "id": "t0OVQ3U03zRc"
      },
      "outputs": [],
      "source": [
        "# Save model\n",
        "\n",
        "model.save('powerai.h5')"
      ]
    },
    {
      "cell_type": "code",
      "execution_count": 35,
      "metadata": {
        "id": "D3IH-RgH3zJ7"
      },
      "outputs": [],
      "source": [
        "from tensorflow.keras.preprocessing import image\n",
        "import numpy as np"
      ]
    },
    {
      "cell_type": "code",
      "execution_count": 36,
      "metadata": {
        "colab": {
          "base_uri": "https://localhost:8080/",
          "height": 53
        },
        "id": "EjZapbxV6vHk",
        "outputId": "24fbd087-b270-41d6-c157-31db1fd698da"
      },
      "outputs": [
        {
          "output_type": "stream",
          "name": "stdout",
          "text": [
            "1/1 [==============================] - 0s 21ms/step\n"
          ]
        },
        {
          "output_type": "execute_result",
          "data": {
            "text/plain": [
              "'areeftest'"
            ],
            "application/vnd.google.colaboratory.intrinsic+json": {
              "type": "string"
            }
          },
          "metadata": {},
          "execution_count": 36
        }
      ],
      "source": [
        "# Testing 1\n",
        "\n",
        "img = image.load_img('/content/rawdata/testing/areeftest/WIN_20230320_002613.JPG',target_size=(64,64)) # Reading image\n",
        "x = image.img_to_array(img) # Converting image into array\n",
        "x = np.expand_dims(x,axis=0) # expanding Dimensions\n",
        "pred = np.argmax(model.predict(x)) # Predicting the higher probablity index\n",
        "op = ['areeftest','gunatest','haritest','jubertest','stest','umeshtest','virattest'] # Creating list\n",
        "op[pred] # List indexing with output"
      ]
    },
    {
      "cell_type": "code",
      "execution_count": 37,
      "metadata": {
        "colab": {
          "base_uri": "https://localhost:8080/",
          "height": 53
        },
        "id": "Q1Z1YuaV6vD-",
        "outputId": "138fbf6f-0946-4ec1-ca4f-cbbb46ab6599"
      },
      "outputs": [
        {
          "output_type": "stream",
          "name": "stdout",
          "text": [
            "1/1 [==============================] - 0s 20ms/step\n"
          ]
        },
        {
          "output_type": "execute_result",
          "data": {
            "text/plain": [
              "'gunatest'"
            ],
            "application/vnd.google.colaboratory.intrinsic+json": {
              "type": "string"
            }
          },
          "metadata": {},
          "execution_count": 37
        }
      ],
      "source": [
        "# Testing 2\n",
        "\n",
        "img = image.load_img('/content/rawdata/testing/gunatest/WIN_20230320_002335.JPG',target_size=(64,64)) # Reading image\n",
        "x = image.img_to_array(img) # Converting image into array\n",
        "x = np.expand_dims(x,axis=0) # expanding Dimensions\n",
        "pred = np.argmax(model.predict(x)) # Predicting the higher probablity index\n",
        "op = ['areeftest','gunatest','haritest','jubertest','stest','umeshtest','virattest'] # Creating list\n",
        "op[pred] # List indexing with output"
      ]
    },
    {
      "cell_type": "code",
      "execution_count": 38,
      "metadata": {
        "colab": {
          "base_uri": "https://localhost:8080/",
          "height": 53
        },
        "id": "EaNkcsif6vB0",
        "outputId": "f9a4a0ae-4805-4c16-f846-5bb26a88c09f"
      },
      "outputs": [
        {
          "output_type": "stream",
          "name": "stdout",
          "text": [
            "1/1 [==============================] - 0s 20ms/step\n"
          ]
        },
        {
          "output_type": "execute_result",
          "data": {
            "text/plain": [
              "'jubertest'"
            ],
            "application/vnd.google.colaboratory.intrinsic+json": {
              "type": "string"
            }
          },
          "metadata": {},
          "execution_count": 38
        }
      ],
      "source": [
        "# Testing 3\n",
        "\n",
        "img = image.load_img('/content/rawdata/testing/jubertest/WIN_20230320_002907.JPG',target_size=(64,64)) # Reading image\n",
        "x = image.img_to_array(img) # Converting image into array\n",
        "x = np.expand_dims(x,axis=0) # expanding Dimensions\n",
        "pred = np.argmax(model.predict(x)) # Predicting the higher probablity index\n",
        "op = ['areeftest','gunatest','jubertest','haritest','stest','umeshtest','virattest'] # Creating list\n",
        "op[pred] # List indexing with output"
      ]
    },
    {
      "cell_type": "code",
      "execution_count": 39,
      "metadata": {
        "colab": {
          "base_uri": "https://localhost:8080/",
          "height": 53
        },
        "id": "2f6WYmri6u_j",
        "outputId": "b5318611-cbd7-4985-e9da-b9a89583479a"
      },
      "outputs": [
        {
          "output_type": "stream",
          "name": "stdout",
          "text": [
            "1/1 [==============================] - 0s 31ms/step\n"
          ]
        },
        {
          "output_type": "execute_result",
          "data": {
            "text/plain": [
              "'virattest'"
            ],
            "application/vnd.google.colaboratory.intrinsic+json": {
              "type": "string"
            }
          },
          "metadata": {},
          "execution_count": 39
        }
      ],
      "source": [
        "# Testing 4\n",
        "\n",
        "img = image.load_img('/content/rawdata/testing/virattest/virattest1.jpg',target_size=(64,64)) # Reading image\n",
        "x = image.img_to_array(img) # Converting image into array\n",
        "x = np.expand_dims(x,axis=0) # expanding Dimensions\n",
        "pred = np.argmax(model.predict(x)) # Predicting the higher probablity index\n",
        "op = ['areeftest','gunatest','haritest','jubertest','stest','umeshtest','virattest'] # Creating list\n",
        "op[pred] # List indexing with output"
      ]
    },
    {
      "cell_type": "code",
      "execution_count": 40,
      "metadata": {
        "colab": {
          "base_uri": "https://localhost:8080/"
        },
        "id": "NDRwIpay6u6k",
        "outputId": "5090e863-9f12-4309-f4ff-a4accb000907"
      },
      "outputs": [
        {
          "output_type": "execute_result",
          "data": {
            "text/plain": [
              "{'A': 0, 'Guna': 1, 'MOBBU': 2, 'Umes': 3, 'Y': 4, 'smrithi': 5, 'virat': 6}"
            ]
          },
          "metadata": {},
          "execution_count": 40
        }
      ],
      "source": [
        "xtrain.class_indices"
      ]
    },
    {
      "cell_type": "code",
      "execution_count": 41,
      "metadata": {
        "id": "XLE-K-bD6u3z"
      },
      "outputs": [],
      "source": [
        "from tensorflow.keras.callbacks import EarlyStopping, ReduceLROnPlateau"
      ]
    },
    {
      "cell_type": "code",
      "execution_count": 42,
      "metadata": {
        "id": "kHoKRb8-6uwc"
      },
      "outputs": [],
      "source": [
        "early_stop = EarlyStopping(monitor='val_accuracy', \n",
        "                           patience=5)\n",
        "\n",
        "lr = ReduceLROnPlateau(monitor='val_accuaracy', \n",
        "                       factor=0.5, \n",
        "                       min_lr=0.00001)\n",
        "\n",
        "callback = [early_stop,lr]"
      ]
    },
    {
      "cell_type": "code",
      "execution_count": 43,
      "metadata": {
        "colab": {
          "base_uri": "https://localhost:8080/"
        },
        "id": "ScjGhf2Y_MLV",
        "outputId": "1e71ec51-09de-4837-cd13-5ef93f18e5c1"
      },
      "outputs": [
        {
          "output_type": "stream",
          "name": "stderr",
          "text": [
            "<ipython-input-43-299d98ca585e>:3: UserWarning: `Model.fit_generator` is deprecated and will be removed in a future version. Please use `Model.fit`, which supports generators.\n",
            "  model.fit_generator(xtrain,\n"
          ]
        },
        {
          "output_type": "stream",
          "name": "stdout",
          "text": [
            "Epoch 1/100\n",
            "13/13 [==============================] - ETA: 0s - loss: 2.1031e-04 - accuracy: 1.0000"
          ]
        },
        {
          "output_type": "stream",
          "name": "stderr",
          "text": [
            "WARNING:tensorflow:Learning rate reduction is conditioned on metric `val_accuaracy` which is not available. Available metrics are: loss,accuracy,val_loss,val_accuracy,lr\n"
          ]
        },
        {
          "output_type": "stream",
          "name": "stdout",
          "text": [
            "\b\b\b\b\b\b\b\b\b\b\b\b\b\b\b\b\b\b\b\b\b\b\b\b\b\b\b\b\b\b\b\b\b\b\b\b\b\b\b\b\b\b\b\b\b\b\b\b\b\b\b\b\b\b\b\b\b\b\b\b\b\b\b\b\b\b\b\b\b\b\b\b\b\b\b\b\b\b\b\b\b\b\b\b\b\b\r13/13 [==============================] - 3s 266ms/step - loss: 2.1031e-04 - accuracy: 1.0000 - val_loss: 10.5919 - val_accuracy: 0.4286 - lr: 0.0010\n",
            "Epoch 2/100\n",
            "13/13 [==============================] - ETA: 0s - loss: 2.2212e-04 - accuracy: 1.0000"
          ]
        },
        {
          "output_type": "stream",
          "name": "stderr",
          "text": [
            "WARNING:tensorflow:Learning rate reduction is conditioned on metric `val_accuaracy` which is not available. Available metrics are: loss,accuracy,val_loss,val_accuracy,lr\n"
          ]
        },
        {
          "output_type": "stream",
          "name": "stdout",
          "text": [
            "\b\b\b\b\b\b\b\b\b\b\b\b\b\b\b\b\b\b\b\b\b\b\b\b\b\b\b\b\b\b\b\b\b\b\b\b\b\b\b\b\b\b\b\b\b\b\b\b\b\b\b\b\b\b\b\b\b\b\b\b\b\b\b\b\b\b\b\b\b\b\b\b\b\b\b\b\b\b\b\b\b\b\b\b\b\b\r13/13 [==============================] - 3s 239ms/step - loss: 2.2212e-04 - accuracy: 1.0000 - val_loss: 10.6423 - val_accuracy: 0.4286 - lr: 0.0010\n",
            "Epoch 3/100\n",
            "13/13 [==============================] - ETA: 0s - loss: 4.2029e-04 - accuracy: 1.0000"
          ]
        },
        {
          "output_type": "stream",
          "name": "stderr",
          "text": [
            "WARNING:tensorflow:Learning rate reduction is conditioned on metric `val_accuaracy` which is not available. Available metrics are: loss,accuracy,val_loss,val_accuracy,lr\n"
          ]
        },
        {
          "output_type": "stream",
          "name": "stdout",
          "text": [
            "\b\b\b\b\b\b\b\b\b\b\b\b\b\b\b\b\b\b\b\b\b\b\b\b\b\b\b\b\b\b\b\b\b\b\b\b\b\b\b\b\b\b\b\b\b\b\b\b\b\b\b\b\b\b\b\b\b\b\b\b\b\b\b\b\b\b\b\b\b\b\b\b\b\b\b\b\b\b\b\b\b\b\b\b\b\b\r13/13 [==============================] - 3s 256ms/step - loss: 4.2029e-04 - accuracy: 1.0000 - val_loss: 10.7315 - val_accuracy: 0.4286 - lr: 0.0010\n",
            "Epoch 4/100\n",
            "13/13 [==============================] - ETA: 0s - loss: 3.7080e-04 - accuracy: 1.0000"
          ]
        },
        {
          "output_type": "stream",
          "name": "stderr",
          "text": [
            "WARNING:tensorflow:Learning rate reduction is conditioned on metric `val_accuaracy` which is not available. Available metrics are: loss,accuracy,val_loss,val_accuracy,lr\n"
          ]
        },
        {
          "output_type": "stream",
          "name": "stdout",
          "text": [
            "\b\b\b\b\b\b\b\b\b\b\b\b\b\b\b\b\b\b\b\b\b\b\b\b\b\b\b\b\b\b\b\b\b\b\b\b\b\b\b\b\b\b\b\b\b\b\b\b\b\b\b\b\b\b\b\b\b\b\b\b\b\b\b\b\b\b\b\b\b\b\b\b\b\b\b\b\b\b\b\b\b\b\b\b\b\b\r13/13 [==============================] - 3s 237ms/step - loss: 3.7080e-04 - accuracy: 1.0000 - val_loss: 10.5301 - val_accuracy: 0.4286 - lr: 0.0010\n",
            "Epoch 5/100\n",
            "13/13 [==============================] - ETA: 0s - loss: 3.0285e-04 - accuracy: 1.0000"
          ]
        },
        {
          "output_type": "stream",
          "name": "stderr",
          "text": [
            "WARNING:tensorflow:Learning rate reduction is conditioned on metric `val_accuaracy` which is not available. Available metrics are: loss,accuracy,val_loss,val_accuracy,lr\n"
          ]
        },
        {
          "output_type": "stream",
          "name": "stdout",
          "text": [
            "\b\b\b\b\b\b\b\b\b\b\b\b\b\b\b\b\b\b\b\b\b\b\b\b\b\b\b\b\b\b\b\b\b\b\b\b\b\b\b\b\b\b\b\b\b\b\b\b\b\b\b\b\b\b\b\b\b\b\b\b\b\b\b\b\b\b\b\b\b\b\b\b\b\b\b\b\b\b\b\b\b\b\b\b\b\b\r13/13 [==============================] - 3s 235ms/step - loss: 3.0285e-04 - accuracy: 1.0000 - val_loss: 10.5609 - val_accuracy: 0.4286 - lr: 0.0010\n",
            "Epoch 6/100\n",
            "13/13 [==============================] - ETA: 0s - loss: 4.4536e-04 - accuracy: 1.0000"
          ]
        },
        {
          "output_type": "stream",
          "name": "stderr",
          "text": [
            "WARNING:tensorflow:Learning rate reduction is conditioned on metric `val_accuaracy` which is not available. Available metrics are: loss,accuracy,val_loss,val_accuracy,lr\n"
          ]
        },
        {
          "output_type": "stream",
          "name": "stdout",
          "text": [
            "\b\b\b\b\b\b\b\b\b\b\b\b\b\b\b\b\b\b\b\b\b\b\b\b\b\b\b\b\b\b\b\b\b\b\b\b\b\b\b\b\b\b\b\b\b\b\b\b\b\b\b\b\b\b\b\b\b\b\b\b\b\b\b\b\b\b\b\b\b\b\b\b\b\b\b\b\b\b\b\b\b\b\b\b\b\b\r13/13 [==============================] - 3s 232ms/step - loss: 4.4536e-04 - accuracy: 1.0000 - val_loss: 10.7604 - val_accuracy: 0.4286 - lr: 0.0010\n"
          ]
        },
        {
          "output_type": "execute_result",
          "data": {
            "text/plain": [
              "<keras.callbacks.History at 0x7fd1000c5f40>"
            ]
          },
          "metadata": {},
          "execution_count": 43
        }
      ],
      "source": [
        "# Train model\n",
        "\n",
        "model.fit_generator(xtrain,\n",
        "                    steps_per_epoch=len(xtrain),\n",
        "                    epochs=100,\n",
        "                    callbacks=callback,\n",
        "                    validation_data=xtest,\n",
        "                    validation_steps=len(xtest))"
      ]
    },
    {
      "cell_type": "code",
      "execution_count": 45,
      "metadata": {
        "colab": {
          "base_uri": "https://localhost:8080/",
          "height": 53
        },
        "id": "kTCWoZzZ_L-s",
        "outputId": "4f0aaeb4-9adf-4ece-cd2b-97617aeb17f3"
      },
      "outputs": [
        {
          "output_type": "stream",
          "name": "stdout",
          "text": [
            "1/1 [==============================] - 0s 20ms/step\n"
          ]
        },
        {
          "output_type": "execute_result",
          "data": {
            "text/plain": [
              "'virattest'"
            ],
            "application/vnd.google.colaboratory.intrinsic+json": {
              "type": "string"
            }
          },
          "metadata": {},
          "execution_count": 45
        }
      ],
      "source": [
        "# Testing 4\n",
        "\n",
        "img = image.load_img('/content/googleimagetest.jpg',target_size=(64,64)) # Reading image\n",
        "x = image.img_to_array(img) # Converting image into array\n",
        "x = np.expand_dims(x,axis=0) # expanding Dimensions\n",
        "pred = np.argmax(model.predict(x)) # Predicting the higher probablity index\n",
        "op = ['areeftest','gunatest','haritest','jubertest','stest','umeshtest','virattest'] # Creating lis# Creating list\n",
        "op[pred] # List indexing with output"
      ]
    },
    {
      "cell_type": "code",
      "execution_count": 49,
      "metadata": {
        "id": "bFVYNoAa_Lt_",
        "colab": {
          "base_uri": "https://localhost:8080/",
          "height": 53
        },
        "outputId": "96b7dba6-4009-4b1f-eb99-e7159f76a35e"
      },
      "outputs": [
        {
          "output_type": "stream",
          "name": "stdout",
          "text": [
            "1/1 [==============================] - 0s 31ms/step\n"
          ]
        },
        {
          "output_type": "execute_result",
          "data": {
            "text/plain": [
              "'virattest'"
            ],
            "application/vnd.google.colaboratory.intrinsic+json": {
              "type": "string"
            }
          },
          "metadata": {},
          "execution_count": 49
        }
      ],
      "source": [
        "# Testing google image\n",
        "\n",
        "img = image.load_img('/content/testingai.jpg',target_size=(64,64)) # Reading image\n",
        "x = image.img_to_array(img) # Converting image into array\n",
        "x = np.expand_dims(x,axis=0) # expanding Dimensions\n",
        "pred = np.argmax(model.predict(x)) # Predicting the higher probablity index\n",
        "op = ['areeftest','gunatest','haritest','jubertest','umeshtest','stest','virattest'] \n",
        "op[pred] # List indexing with output"
      ]
    }
  ],
  "metadata": {
    "accelerator": "GPU",
    "colab": {
      "provenance": [],
      "mount_file_id": "1KQ48QtRvsCXRtwf-8GHzADWH8b3orfS-",
      "authorship_tag": "ABX9TyMstBtu21A9Z5bzMrktZuO8",
      "include_colab_link": true
    },
    "gpuClass": "standard",
    "kernelspec": {
      "display_name": "Python 3",
      "name": "python3"
    },
    "language_info": {
      "name": "python"
    }
  },
  "nbformat": 4,
  "nbformat_minor": 0
}